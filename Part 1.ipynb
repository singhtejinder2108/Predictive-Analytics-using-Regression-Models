{
 "cells": [
  {
   "cell_type": "code",
   "execution_count": 1,
   "id": "3cfe449a",
   "metadata": {},
   "outputs": [],
   "source": [
    "import pandas as pd\n",
    "import seaborn as sns \n",
    "df= pd.read_csv('baseball_teams.csv')"
   ]
  },
  {
   "cell_type": "markdown",
   "id": "193f7201",
   "metadata": {},
   "source": [
    "# Correlation Analysis"
   ]
  },
  {
   "cell_type": "code",
   "execution_count": 4,
   "id": "9ec03ed8",
   "metadata": {},
   "outputs": [
    {
     "data": {
      "text/html": [
       "<div>\n",
       "<style scoped>\n",
       "    .dataframe tbody tr th:only-of-type {\n",
       "        vertical-align: middle;\n",
       "    }\n",
       "\n",
       "    .dataframe tbody tr th {\n",
       "        vertical-align: top;\n",
       "    }\n",
       "\n",
       "    .dataframe thead th {\n",
       "        text-align: right;\n",
       "    }\n",
       "</style>\n",
       "<table border=\"1\" class=\"dataframe\">\n",
       "  <thead>\n",
       "    <tr style=\"text-align: right;\">\n",
       "      <th></th>\n",
       "      <th>Games_Won</th>\n",
       "      <th>Runs_Scored</th>\n",
       "    </tr>\n",
       "  </thead>\n",
       "  <tbody>\n",
       "    <tr>\n",
       "      <th>1960</th>\n",
       "      <td>76</td>\n",
       "      <td>731</td>\n",
       "    </tr>\n",
       "    <tr>\n",
       "      <th>1961</th>\n",
       "      <td>86</td>\n",
       "      <td>739</td>\n",
       "    </tr>\n",
       "    <tr>\n",
       "      <th>1962</th>\n",
       "      <td>64</td>\n",
       "      <td>663</td>\n",
       "    </tr>\n",
       "    <tr>\n",
       "      <th>1963</th>\n",
       "      <td>74</td>\n",
       "      <td>656</td>\n",
       "    </tr>\n",
       "    <tr>\n",
       "      <th>1964</th>\n",
       "      <td>67</td>\n",
       "      <td>718</td>\n",
       "    </tr>\n",
       "  </tbody>\n",
       "</table>\n",
       "</div>"
      ],
      "text/plain": [
       "      Games_Won  Runs_Scored\n",
       "1960         76          731\n",
       "1961         86          739\n",
       "1962         64          663\n",
       "1963         74          656\n",
       "1964         67          718"
      ]
     },
     "execution_count": 4,
     "metadata": {},
     "output_type": "execute_result"
    }
   ],
   "source": [
    "df0 = df.loc['1960':'2010',['Games_Won','Runs_Scored']]\n",
    "df0.head()"
   ]
  },
  {
   "cell_type": "code",
   "execution_count": 5,
   "id": "067f47f9",
   "metadata": {},
   "outputs": [
    {
     "data": {
      "text/html": [
       "<div>\n",
       "<style scoped>\n",
       "    .dataframe tbody tr th:only-of-type {\n",
       "        vertical-align: middle;\n",
       "    }\n",
       "\n",
       "    .dataframe tbody tr th {\n",
       "        vertical-align: top;\n",
       "    }\n",
       "\n",
       "    .dataframe thead th {\n",
       "        text-align: right;\n",
       "    }\n",
       "</style>\n",
       "<table border=\"1\" class=\"dataframe\">\n",
       "  <thead>\n",
       "    <tr style=\"text-align: right;\">\n",
       "      <th></th>\n",
       "      <th>Games_Won</th>\n",
       "      <th>Runs_Scored</th>\n",
       "    </tr>\n",
       "  </thead>\n",
       "  <tbody>\n",
       "    <tr>\n",
       "      <th>Games_Won</th>\n",
       "      <td>1.000000</td>\n",
       "      <td>0.554663</td>\n",
       "    </tr>\n",
       "    <tr>\n",
       "      <th>Runs_Scored</th>\n",
       "      <td>0.554663</td>\n",
       "      <td>1.000000</td>\n",
       "    </tr>\n",
       "  </tbody>\n",
       "</table>\n",
       "</div>"
      ],
      "text/plain": [
       "             Games_Won  Runs_Scored\n",
       "Games_Won     1.000000     0.554663\n",
       "Runs_Scored   0.554663     1.000000"
      ]
     },
     "execution_count": 5,
     "metadata": {},
     "output_type": "execute_result"
    }
   ],
   "source": [
    "df0.corr()"
   ]
  },
  {
   "cell_type": "code",
   "execution_count": 6,
   "id": "8a95b3e7",
   "metadata": {},
   "outputs": [
    {
     "data": {
      "image/png": "[encoded data removed]",
      "text/plain": [
       "<Figure size 360x360 with 1 Axes>"
      ]
     },
     "metadata": {
      "needs_background": "light"
     },
     "output_type": "display_data"
    }
   ],
   "source": [
    "import matplotlib.pyplot as plt\n",
    "sns.lmplot(x='Games_Won', y='Runs_Scored', data=df0, ci=None)\n",
    "plt.show()"
   ]
  },
  {
   "cell_type": "code",
   "execution_count": 7,
   "id": "b326f752",
   "metadata": {},
   "outputs": [
    {
     "data": {
      "text/html": [
       "<div>\n",
       "<style scoped>\n",
       "    .dataframe tbody tr th:only-of-type {\n",
       "        vertical-align: middle;\n",
       "    }\n",
       "\n",
       "    .dataframe tbody tr th {\n",
       "        vertical-align: top;\n",
       "    }\n",
       "\n",
       "    .dataframe thead th {\n",
       "        text-align: right;\n",
       "    }\n",
       "</style>\n",
       "<table border=\"1\" class=\"dataframe\">\n",
       "  <thead>\n",
       "    <tr style=\"text-align: right;\">\n",
       "      <th></th>\n",
       "      <th>Games_Won</th>\n",
       "      <th>Runs_Against</th>\n",
       "    </tr>\n",
       "  </thead>\n",
       "  <tbody>\n",
       "    <tr>\n",
       "      <th>1960</th>\n",
       "      <td>76</td>\n",
       "      <td>760</td>\n",
       "    </tr>\n",
       "    <tr>\n",
       "      <th>1961</th>\n",
       "      <td>86</td>\n",
       "      <td>713</td>\n",
       "    </tr>\n",
       "    <tr>\n",
       "      <th>1962</th>\n",
       "      <td>64</td>\n",
       "      <td>700</td>\n",
       "    </tr>\n",
       "    <tr>\n",
       "      <th>1963</th>\n",
       "      <td>74</td>\n",
       "      <td>723</td>\n",
       "    </tr>\n",
       "    <tr>\n",
       "      <th>1964</th>\n",
       "      <td>67</td>\n",
       "      <td>835</td>\n",
       "    </tr>\n",
       "  </tbody>\n",
       "</table>\n",
       "</div>"
      ],
      "text/plain": [
       "      Games_Won  Runs_Against\n",
       "1960         76           760\n",
       "1961         86           713\n",
       "1962         64           700\n",
       "1963         74           723\n",
       "1964         67           835"
      ]
     },
     "execution_count": 7,
     "metadata": {},
     "output_type": "execute_result"
    }
   ],
   "source": [
    "df1 = df.loc['1960':'2010',['Games_Won','Runs_Against']]\n",
    "df1.head()"
   ]
  },
  {
   "cell_type": "code",
   "execution_count": 8,
   "id": "6f4acbef",
   "metadata": {},
   "outputs": [
    {
     "data": {
      "text/html": [
       "<div>\n",
       "<style scoped>\n",
       "    .dataframe tbody tr th:only-of-type {\n",
       "        vertical-align: middle;\n",
       "    }\n",
       "\n",
       "    .dataframe tbody tr th {\n",
       "        vertical-align: top;\n",
       "    }\n",
       "\n",
       "    .dataframe thead th {\n",
       "        text-align: right;\n",
       "    }\n",
       "</style>\n",
       "<table border=\"1\" class=\"dataframe\">\n",
       "  <thead>\n",
       "    <tr style=\"text-align: right;\">\n",
       "      <th></th>\n",
       "      <th>Games_Won</th>\n",
       "      <th>Runs_Against</th>\n",
       "    </tr>\n",
       "  </thead>\n",
       "  <tbody>\n",
       "    <tr>\n",
       "      <th>Games_Won</th>\n",
       "      <td>1.00000</td>\n",
       "      <td>-0.48961</td>\n",
       "    </tr>\n",
       "    <tr>\n",
       "      <th>Runs_Against</th>\n",
       "      <td>-0.48961</td>\n",
       "      <td>1.00000</td>\n",
       "    </tr>\n",
       "  </tbody>\n",
       "</table>\n",
       "</div>"
      ],
      "text/plain": [
       "              Games_Won  Runs_Against\n",
       "Games_Won       1.00000      -0.48961\n",
       "Runs_Against   -0.48961       1.00000"
      ]
     },
     "execution_count": 8,
     "metadata": {},
     "output_type": "execute_result"
    }
   ],
   "source": [
    "df1.corr()"
   ]
  },
  {
   "cell_type": "code",
   "execution_count": 9,
   "id": "48a5df58",
   "metadata": {},
   "outputs": [
    {
     "data": {
      "image/png": "[encoded data removed]",
      "text/plain": [
       "<Figure size 360x360 with 1 Axes>"
      ]
     },
     "metadata": {
      "needs_background": "light"
     },
     "output_type": "display_data"
    }
   ],
   "source": [
    "import matplotlib.pyplot as plt\n",
    "sns.lmplot(x='Games_Won', y='Runs_Against', data=df1, ci=None)\n",
    "plt.show()"
   ]
  },
  {
   "cell_type": "code",
   "execution_count": 10,
   "id": "2c40c28d",
   "metadata": {},
   "outputs": [
    {
     "data": {
      "text/html": [
       "<div>\n",
       "<style scoped>\n",
       "    .dataframe tbody tr th:only-of-type {\n",
       "        vertical-align: middle;\n",
       "    }\n",
       "\n",
       "    .dataframe tbody tr th {\n",
       "        vertical-align: top;\n",
       "    }\n",
       "\n",
       "    .dataframe thead th {\n",
       "        text-align: right;\n",
       "    }\n",
       "</style>\n",
       "<table border=\"1\" class=\"dataframe\">\n",
       "  <thead>\n",
       "    <tr style=\"text-align: right;\">\n",
       "      <th></th>\n",
       "      <th>Games_Won</th>\n",
       "      <th>Runs Scored minus Runs Against</th>\n",
       "    </tr>\n",
       "  </thead>\n",
       "  <tbody>\n",
       "    <tr>\n",
       "      <th>1960</th>\n",
       "      <td>76</td>\n",
       "      <td>-29</td>\n",
       "    </tr>\n",
       "    <tr>\n",
       "      <th>1961</th>\n",
       "      <td>86</td>\n",
       "      <td>26</td>\n",
       "    </tr>\n",
       "    <tr>\n",
       "      <th>1962</th>\n",
       "      <td>64</td>\n",
       "      <td>-37</td>\n",
       "    </tr>\n",
       "    <tr>\n",
       "      <th>1963</th>\n",
       "      <td>74</td>\n",
       "      <td>-67</td>\n",
       "    </tr>\n",
       "    <tr>\n",
       "      <th>1964</th>\n",
       "      <td>67</td>\n",
       "      <td>-117</td>\n",
       "    </tr>\n",
       "  </tbody>\n",
       "</table>\n",
       "</div>"
      ],
      "text/plain": [
       "      Games_Won  Runs Scored minus Runs Against\n",
       "1960         76                             -29\n",
       "1961         86                              26\n",
       "1962         64                             -37\n",
       "1963         74                             -67\n",
       "1964         67                            -117"
      ]
     },
     "execution_count": 10,
     "metadata": {},
     "output_type": "execute_result"
    }
   ],
   "source": [
    "df['Runs Scored minus Runs Against'] = df['Runs_Scored']-df['Runs_Against']\n",
    "df2 = df.loc['1960':'2010', ['Games_Won', 'Runs Scored minus Runs Against']]\n",
    "df2.head()"
   ]
  },
  {
   "cell_type": "code",
   "execution_count": 11,
   "id": "781ba3e9",
   "metadata": {},
   "outputs": [
    {
     "data": {
      "text/html": [
       "<div>\n",
       "<style scoped>\n",
       "    .dataframe tbody tr th:only-of-type {\n",
       "        vertical-align: middle;\n",
       "    }\n",
       "\n",
       "    .dataframe tbody tr th {\n",
       "        vertical-align: top;\n",
       "    }\n",
       "\n",
       "    .dataframe thead th {\n",
       "        text-align: right;\n",
       "    }\n",
       "</style>\n",
       "<table border=\"1\" class=\"dataframe\">\n",
       "  <thead>\n",
       "    <tr style=\"text-align: right;\">\n",
       "      <th></th>\n",
       "      <th>Games_Won</th>\n",
       "      <th>Runs Scored minus Runs Against</th>\n",
       "    </tr>\n",
       "  </thead>\n",
       "  <tbody>\n",
       "    <tr>\n",
       "      <th>Games_Won</th>\n",
       "      <td>1.000000</td>\n",
       "      <td>0.922811</td>\n",
       "    </tr>\n",
       "    <tr>\n",
       "      <th>Runs Scored minus Runs Against</th>\n",
       "      <td>0.922811</td>\n",
       "      <td>1.000000</td>\n",
       "    </tr>\n",
       "  </tbody>\n",
       "</table>\n",
       "</div>"
      ],
      "text/plain": [
       "                                Games_Won  Runs Scored minus Runs Against\n",
       "Games_Won                        1.000000                        0.922811\n",
       "Runs Scored minus Runs Against   0.922811                        1.000000"
      ]
     },
     "execution_count": 11,
     "metadata": {},
     "output_type": "execute_result"
    }
   ],
   "source": [
    "df2.corr()"
   ]
  },
  {
   "cell_type": "code",
   "execution_count": 12,
   "id": "8ab3f925",
   "metadata": {},
   "outputs": [
    {
     "data": {
      "image/png": "[encoded data removed]",
      "text/plain": [
       "<Figure size 360x360 with 1 Axes>"
      ]
     },
     "metadata": {
      "needs_background": "light"
     },
     "output_type": "display_data"
    }
   ],
   "source": [
    "import matplotlib.pyplot as plt\n",
    "sns.lmplot(x='Games_Won', y='Runs Scored minus Runs Against', data=df2, ci=None)\n",
    "plt.show()"
   ]
  },
  {
   "cell_type": "code",
   "execution_count": 13,
   "id": "2436c747",
   "metadata": {},
   "outputs": [
    {
     "data": {
      "text/html": [
       "<div>\n",
       "<style scoped>\n",
       "    .dataframe tbody tr th:only-of-type {\n",
       "        vertical-align: middle;\n",
       "    }\n",
       "\n",
       "    .dataframe tbody tr th {\n",
       "        vertical-align: top;\n",
       "    }\n",
       "\n",
       "    .dataframe thead th {\n",
       "        text-align: right;\n",
       "    }\n",
       "</style>\n",
       "<table border=\"1\" class=\"dataframe\">\n",
       "  <thead>\n",
       "    <tr style=\"text-align: right;\">\n",
       "      <th></th>\n",
       "      <th>Games_Lost</th>\n",
       "      <th>Runs_Scored</th>\n",
       "    </tr>\n",
       "  </thead>\n",
       "  <tbody>\n",
       "    <tr>\n",
       "      <th>1960</th>\n",
       "      <td>86</td>\n",
       "      <td>731</td>\n",
       "    </tr>\n",
       "    <tr>\n",
       "      <th>1961</th>\n",
       "      <td>75</td>\n",
       "      <td>739</td>\n",
       "    </tr>\n",
       "    <tr>\n",
       "      <th>1962</th>\n",
       "      <td>98</td>\n",
       "      <td>663</td>\n",
       "    </tr>\n",
       "    <tr>\n",
       "      <th>1963</th>\n",
       "      <td>88</td>\n",
       "      <td>656</td>\n",
       "    </tr>\n",
       "    <tr>\n",
       "      <th>1964</th>\n",
       "      <td>95</td>\n",
       "      <td>718</td>\n",
       "    </tr>\n",
       "  </tbody>\n",
       "</table>\n",
       "</div>"
      ],
      "text/plain": [
       "      Games_Lost  Runs_Scored\n",
       "1960          86          731\n",
       "1961          75          739\n",
       "1962          98          663\n",
       "1963          88          656\n",
       "1964          95          718"
      ]
     },
     "execution_count": 13,
     "metadata": {},
     "output_type": "execute_result"
    }
   ],
   "source": [
    "df3 = df.loc['1960':'2010', ['Games_Lost', 'Runs_Scored']]\n",
    "df3.head()"
   ]
  },
  {
   "cell_type": "code",
   "execution_count": 14,
   "id": "d29bdeaf",
   "metadata": {},
   "outputs": [
    {
     "data": {
      "text/html": [
       "<div>\n",
       "<style scoped>\n",
       "    .dataframe tbody tr th:only-of-type {\n",
       "        vertical-align: middle;\n",
       "    }\n",
       "\n",
       "    .dataframe tbody tr th {\n",
       "        vertical-align: top;\n",
       "    }\n",
       "\n",
       "    .dataframe thead th {\n",
       "        text-align: right;\n",
       "    }\n",
       "</style>\n",
       "<table border=\"1\" class=\"dataframe\">\n",
       "  <thead>\n",
       "    <tr style=\"text-align: right;\">\n",
       "      <th></th>\n",
       "      <th>Games_Lost</th>\n",
       "      <th>Runs_Scored</th>\n",
       "    </tr>\n",
       "  </thead>\n",
       "  <tbody>\n",
       "    <tr>\n",
       "      <th>Games_Lost</th>\n",
       "      <td>1.000000</td>\n",
       "      <td>-0.539536</td>\n",
       "    </tr>\n",
       "    <tr>\n",
       "      <th>Runs_Scored</th>\n",
       "      <td>-0.539536</td>\n",
       "      <td>1.000000</td>\n",
       "    </tr>\n",
       "  </tbody>\n",
       "</table>\n",
       "</div>"
      ],
      "text/plain": [
       "             Games_Lost  Runs_Scored\n",
       "Games_Lost     1.000000    -0.539536\n",
       "Runs_Scored   -0.539536     1.000000"
      ]
     },
     "execution_count": 14,
     "metadata": {},
     "output_type": "execute_result"
    }
   ],
   "source": [
    "df3.corr()"
   ]
  },
  {
   "cell_type": "code",
   "execution_count": 15,
   "id": "47096cd3",
   "metadata": {},
   "outputs": [
    {
     "data": {
      "image/png": "[encoded data removed]",
      "text/plain": [
       "<Figure size 360x360 with 1 Axes>"
      ]
     },
     "metadata": {
      "needs_background": "light"
     },
     "output_type": "display_data"
    }
   ],
   "source": [
    "import matplotlib.pyplot as plt\n",
    "sns.lmplot(x='Games_Lost', y='Runs_Scored', data=df3, ci=None)\n",
    "plt.show()"
   ]
  },
  {
   "cell_type": "code",
   "execution_count": 16,
   "id": "004fe40d",
   "metadata": {},
   "outputs": [
    {
     "data": {
      "text/html": [
       "<div>\n",
       "<style scoped>\n",
       "    .dataframe tbody tr th:only-of-type {\n",
       "        vertical-align: middle;\n",
       "    }\n",
       "\n",
       "    .dataframe tbody tr th {\n",
       "        vertical-align: top;\n",
       "    }\n",
       "\n",
       "    .dataframe thead th {\n",
       "        text-align: right;\n",
       "    }\n",
       "</style>\n",
       "<table border=\"1\" class=\"dataframe\">\n",
       "  <thead>\n",
       "    <tr style=\"text-align: right;\">\n",
       "      <th></th>\n",
       "      <th>Games_Lost</th>\n",
       "      <th>Runs_Against</th>\n",
       "    </tr>\n",
       "  </thead>\n",
       "  <tbody>\n",
       "    <tr>\n",
       "      <th>1960</th>\n",
       "      <td>86</td>\n",
       "      <td>760</td>\n",
       "    </tr>\n",
       "    <tr>\n",
       "      <th>1961</th>\n",
       "      <td>75</td>\n",
       "      <td>713</td>\n",
       "    </tr>\n",
       "    <tr>\n",
       "      <th>1962</th>\n",
       "      <td>98</td>\n",
       "      <td>700</td>\n",
       "    </tr>\n",
       "    <tr>\n",
       "      <th>1963</th>\n",
       "      <td>88</td>\n",
       "      <td>723</td>\n",
       "    </tr>\n",
       "    <tr>\n",
       "      <th>1964</th>\n",
       "      <td>95</td>\n",
       "      <td>835</td>\n",
       "    </tr>\n",
       "  </tbody>\n",
       "</table>\n",
       "</div>"
      ],
      "text/plain": [
       "      Games_Lost  Runs_Against\n",
       "1960          86           760\n",
       "1961          75           713\n",
       "1962          98           700\n",
       "1963          88           723\n",
       "1964          95           835"
      ]
     },
     "execution_count": 16,
     "metadata": {},
     "output_type": "execute_result"
    }
   ],
   "source": [
    "df4 = df.loc['1960':'2010', ['Games_Lost', 'Runs_Against']]\n",
    "df4.head()"
   ]
  },
  {
   "cell_type": "code",
   "execution_count": 17,
   "id": "9034f08b",
   "metadata": {},
   "outputs": [
    {
     "data": {
      "text/html": [
       "<div>\n",
       "<style scoped>\n",
       "    .dataframe tbody tr th:only-of-type {\n",
       "        vertical-align: middle;\n",
       "    }\n",
       "\n",
       "    .dataframe tbody tr th {\n",
       "        vertical-align: top;\n",
       "    }\n",
       "\n",
       "    .dataframe thead th {\n",
       "        text-align: right;\n",
       "    }\n",
       "</style>\n",
       "<table border=\"1\" class=\"dataframe\">\n",
       "  <thead>\n",
       "    <tr style=\"text-align: right;\">\n",
       "      <th></th>\n",
       "      <th>Games_Lost</th>\n",
       "      <th>Runs_Against</th>\n",
       "    </tr>\n",
       "  </thead>\n",
       "  <tbody>\n",
       "    <tr>\n",
       "      <th>Games_Lost</th>\n",
       "      <td>1.000000</td>\n",
       "      <td>0.501511</td>\n",
       "    </tr>\n",
       "    <tr>\n",
       "      <th>Runs_Against</th>\n",
       "      <td>0.501511</td>\n",
       "      <td>1.000000</td>\n",
       "    </tr>\n",
       "  </tbody>\n",
       "</table>\n",
       "</div>"
      ],
      "text/plain": [
       "              Games_Lost  Runs_Against\n",
       "Games_Lost      1.000000      0.501511\n",
       "Runs_Against    0.501511      1.000000"
      ]
     },
     "execution_count": 17,
     "metadata": {},
     "output_type": "execute_result"
    }
   ],
   "source": [
    "df4.corr()"
   ]
  },
  {
   "cell_type": "code",
   "execution_count": 18,
   "id": "c79125b1",
   "metadata": {},
   "outputs": [
    {
     "data": {
      "text/plain": [
       "<AxesSubplot:xlabel='Games_Lost', ylabel='Runs_Against'>"
      ]
     },
     "execution_count": 18,
     "metadata": {},
     "output_type": "execute_result"
    },
    {
     "data": {
      "image/png": "[encoded data removed]",
      "text/plain": [
       "<Figure size 432x432 with 1 Axes>"
      ]
     },
     "metadata": {
      "needs_background": "light"
     },
     "output_type": "display_data"
    }
   ],
   "source": [
    "df4.plot(kind='scatter', x='Games_Lost', y='Runs_Against', figsize= (6,6))"
   ]
  },
  {
   "cell_type": "code",
   "execution_count": 20,
   "id": "869e2cca",
   "metadata": {},
   "outputs": [
    {
     "data": {
      "text/html": [
       "<div>\n",
       "<style scoped>\n",
       "    .dataframe tbody tr th:only-of-type {\n",
       "        vertical-align: middle;\n",
       "    }\n",
       "\n",
       "    .dataframe tbody tr th {\n",
       "        vertical-align: top;\n",
       "    }\n",
       "\n",
       "    .dataframe thead th {\n",
       "        text-align: right;\n",
       "    }\n",
       "</style>\n",
       "<table border=\"1\" class=\"dataframe\">\n",
       "  <thead>\n",
       "    <tr style=\"text-align: right;\">\n",
       "      <th></th>\n",
       "      <th>Games_Lost</th>\n",
       "      <th>Runs Scored minus Runs Against</th>\n",
       "    </tr>\n",
       "  </thead>\n",
       "  <tbody>\n",
       "    <tr>\n",
       "      <th>1960</th>\n",
       "      <td>86</td>\n",
       "      <td>-29</td>\n",
       "    </tr>\n",
       "    <tr>\n",
       "      <th>1961</th>\n",
       "      <td>75</td>\n",
       "      <td>26</td>\n",
       "    </tr>\n",
       "    <tr>\n",
       "      <th>1962</th>\n",
       "      <td>98</td>\n",
       "      <td>-37</td>\n",
       "    </tr>\n",
       "    <tr>\n",
       "      <th>1963</th>\n",
       "      <td>88</td>\n",
       "      <td>-67</td>\n",
       "    </tr>\n",
       "    <tr>\n",
       "      <th>1964</th>\n",
       "      <td>95</td>\n",
       "      <td>-117</td>\n",
       "    </tr>\n",
       "  </tbody>\n",
       "</table>\n",
       "</div>"
      ],
      "text/plain": [
       "      Games_Lost  Runs Scored minus Runs Against\n",
       "1960          86                             -29\n",
       "1961          75                              26\n",
       "1962          98                             -37\n",
       "1963          88                             -67\n",
       "1964          95                            -117"
      ]
     },
     "execution_count": 20,
     "metadata": {},
     "output_type": "execute_result"
    }
   ],
   "source": [
    "df5 = df.loc['1960':'2010', ['Games_Lost', 'Runs Scored minus Runs Against']]\n",
    "df5.head()"
   ]
  },
  {
   "cell_type": "code",
   "execution_count": 21,
   "id": "1342dd2f",
   "metadata": {},
   "outputs": [
    {
     "data": {
      "text/html": [
       "<div>\n",
       "<style scoped>\n",
       "    .dataframe tbody tr th:only-of-type {\n",
       "        vertical-align: middle;\n",
       "    }\n",
       "\n",
       "    .dataframe tbody tr th {\n",
       "        vertical-align: top;\n",
       "    }\n",
       "\n",
       "    .dataframe thead th {\n",
       "        text-align: right;\n",
       "    }\n",
       "</style>\n",
       "<table border=\"1\" class=\"dataframe\">\n",
       "  <thead>\n",
       "    <tr style=\"text-align: right;\">\n",
       "      <th></th>\n",
       "      <th>Games_Lost</th>\n",
       "      <th>Runs Scored minus Runs Against</th>\n",
       "    </tr>\n",
       "  </thead>\n",
       "  <tbody>\n",
       "    <tr>\n",
       "      <th>Games_Lost</th>\n",
       "      <td>1.000000</td>\n",
       "      <td>-0.920233</td>\n",
       "    </tr>\n",
       "    <tr>\n",
       "      <th>Runs Scored minus Runs Against</th>\n",
       "      <td>-0.920233</td>\n",
       "      <td>1.000000</td>\n",
       "    </tr>\n",
       "  </tbody>\n",
       "</table>\n",
       "</div>"
      ],
      "text/plain": [
       "                                Games_Lost  Runs Scored minus Runs Against\n",
       "Games_Lost                        1.000000                       -0.920233\n",
       "Runs Scored minus Runs Against   -0.920233                        1.000000"
      ]
     },
     "execution_count": 21,
     "metadata": {},
     "output_type": "execute_result"
    }
   ],
   "source": [
    "df5.corr()"
   ]
  },
  {
   "cell_type": "code",
   "execution_count": 22,
   "id": "0ecb2435",
   "metadata": {},
   "outputs": [
    {
     "data": {
      "text/plain": [
       "<AxesSubplot:xlabel='Games_Lost', ylabel='Runs Scored minus Runs Against'>"
      ]
     },
     "execution_count": 22,
     "metadata": {},
     "output_type": "execute_result"
    },
    {
     "data": {
      "image/png": "[encoded data removed]",
      "text/plain": [
       "<Figure size 432x432 with 1 Axes>"
      ]
     },
     "metadata": {
      "needs_background": "light"
     },
     "output_type": "display_data"
    }
   ],
   "source": [
    "df5.plot(kind='scatter', x='Games_Lost', y='Runs Scored minus Runs Against', figsize= (6,6))"
   ]
  },
  {
   "cell_type": "markdown",
   "id": "ef1bea0a",
   "metadata": {},
   "source": [
    "# Interpretation and Commentary (g)\n",
    "### (a) - Games Won vs Runs Scored\n",
    "\n",
    "##### There is a moderate positive correlation between games won and runs scored of 0.55. As teams win games, they tend to score more runs. However, they do not need to score a lot of runs to win a game. For example, games can be won at a score of 1-0 or 2-1, which is why there is only a moderate correlation and not a strong one between these two variables.\n",
    "\n",
    "### (b) - Games Won vs Runs Against\n",
    "\n",
    "##### There is a negative moderate correlation of -0.48 between these two variables. As Games Won increases, runs against decreases at a moderate rate. As teams win games, they tend to suerrender fewer runs against, which is why the correlation is negative.\n",
    "\n",
    "### (c) - Games won vs (Runs Scored minus Runs Against):\n",
    "\n",
    "##### There appears to be a very strong positive correlation of 0.92 between these two variables. As the games won increases (x), so does the difference between runs scored and runs against (y). This makes sense because in order to win a baseball, a team needs to score more runs than their opponent. Therefore, having a positive differential between runs scored and runs against will result in more games won.\n",
    "\n",
    "### (d) - Games Lost vs Runs Scored\n",
    "\n",
    "##### There appears to be a moderate correlation of -0.53 between these two variables. As Games lost (x) increases, runs scored (y) decreases. This makes sense because teams that lose games tend to score fewer runs in general.\n",
    "\n",
    "### (e) - Games Lost vs Runs Against\n",
    "\n",
    "##### There is a moderate correlation fo 0.50 between these two variables. As games lost increases, runs against increases at a moderate rate. This makes sense because teams that lose games tend to surrender more runs in general.\n",
    "\n",
    "### (f) - Games Lost vs Runs Scored minus Runs Against\n",
    "\n",
    "##### There is a very strong negative correlation of -0.92 between these two variables. As games lost increases, the difference between runs scored and runs against decreases. This is because in order to lose a game, a team must surrender more runs than they score. Therefore, a strong negative correlation is bound to exist because of this."
   ]
  },
  {
   "cell_type": "code",
   "execution_count": null,
   "id": "db7f9e78",
   "metadata": {},
   "outputs": [],
   "source": []
  },
  {
   "cell_type": "markdown",
   "id": "07190925",
   "metadata": {},
   "source": [
    "# Exploratory Data Analysis"
   ]
  },
  {
   "cell_type": "code",
   "execution_count": 23,
   "id": "d5002df5",
   "metadata": {},
   "outputs": [],
   "source": [
    "#Data Manipulation\n",
    "import pandas as pd\n",
    "\n",
    "#Data Visualization\n",
    "import matplotlib.pyplot as plt"
   ]
  },
  {
   "cell_type": "code",
   "execution_count": 24,
   "id": "41740bd2",
   "metadata": {},
   "outputs": [],
   "source": [
    "# 8 key Variables\n",
    "# Final Standing, Games Won, Runs Scored, Runs Against, Home Runs, Earned Run Average, Infield Put Outs, Fielding Percentage\n",
    "\n",
    "df = pd.read_csv('baseball_teams.csv')\n",
    "\n",
    "df.columns = df.columns.str.strip()\n",
    "df.Year\n",
    "df_year = df[(df.Year >= 1960) & (df.Year <= 2010)]\n",
    "df_variable = df_year[['Final_Standing','Games_Played','Games_Won','Games_Lost','Runs_Scored','At_Bats','Hits','Doubles']]\n"
   ]
  },
  {
   "cell_type": "code",
   "execution_count": 25,
   "id": "746d9801",
   "metadata": {},
   "outputs": [
    {
     "name": "stdout",
     "output_type": "stream",
     "text": [
      "       Final_Standing  Games_Played    Games_Won   Games_Lost  Runs_Scored  \\\n",
      "count     1312.000000   1312.000000  1312.000000  1312.000000  1312.000000   \n",
      "mean         3.618902    159.175305    79.523628    79.523628   703.445884   \n",
      "std          2.001801     10.463393    12.516572    12.464481   102.107114   \n",
      "min          1.000000    103.000000    37.000000    40.000000   329.000000   \n",
      "25%          2.000000    162.000000    71.000000    71.000000   641.000000   \n",
      "50%          3.000000    162.000000    80.000000    79.000000   704.000000   \n",
      "75%          5.000000    162.000000    89.000000    88.000000   771.000000   \n",
      "max         10.000000    165.000000   116.000000   120.000000  1009.000000   \n",
      "\n",
      "           At_Bats         Hits      Doubles  \n",
      "count  1312.000000  1312.000000  1312.000000  \n",
      "mean   5427.688262  1408.798780   250.548780  \n",
      "std     364.996582   125.978371    44.704802  \n",
      "min    3493.000000   797.000000   119.000000  \n",
      "25%    5440.750000  1357.000000   216.000000  \n",
      "50%    5506.500000  1418.000000   251.500000  \n",
      "75%    5575.000000  1489.000000   284.000000  \n",
      "max    5781.000000  1684.000000   376.000000  \n"
     ]
    }
   ],
   "source": [
    "# a. Calculate the descriptive statistics for the 8 variables\n",
    "\n",
    "df_variable_stats = df_variable.describe()\n",
    "\n",
    "print(df_variable_stats)"
   ]
  },
  {
   "cell_type": "code",
   "execution_count": 26,
   "id": "88747d2a",
   "metadata": {},
   "outputs": [
    {
     "name": "stdout",
     "output_type": "stream",
     "text": [
      "Median: Final_Standing       3.309451\n",
      "Games_Played       162.000000\n",
      "Games_Won           79.761814\n",
      "Games_Lost          79.261814\n",
      "Runs_Scored        703.722942\n",
      "At_Bats           5434.219131\n",
      "Hits              1382.899390\n",
      "Doubles            251.024390\n",
      "dtype: float64\n"
     ]
    }
   ],
   "source": [
    "df_median = df_variable_stats.median()\n",
    "\n",
    "print(\"Median:\", df_median)\n"
   ]
  },
  {
   "cell_type": "code",
   "execution_count": 27,
   "id": "38a6baa9",
   "metadata": {},
   "outputs": [
    {
     "data": {
      "text/plain": [
       "Final_Standing    int64\n",
       "Games_Played      int64\n",
       "Games_Won         int64\n",
       "Games_Lost        int64\n",
       "Runs_Scored       int64\n",
       "At_Bats           int64\n",
       "Hits              int64\n",
       "Doubles           int64\n",
       "dtype: object"
      ]
     },
     "execution_count": 27,
     "metadata": {},
     "output_type": "execute_result"
    }
   ],
   "source": [
    "df_variable.dtypes"
   ]
  },
  {
   "cell_type": "code",
   "execution_count": 28,
   "id": "440a613a",
   "metadata": {},
   "outputs": [
    {
     "data": {
      "text/plain": [
       "(1312, 8)"
      ]
     },
     "execution_count": 28,
     "metadata": {},
     "output_type": "execute_result"
    }
   ],
   "source": [
    "df_variable.shape"
   ]
  },
  {
   "cell_type": "code",
   "execution_count": 29,
   "id": "04069487",
   "metadata": {},
   "outputs": [
    {
     "data": {
      "text/plain": [
       "Int64Index([1343, 1344, 1345, 1346, 1347, 1348, 1349, 1350, 1351, 1352,\n",
       "            ...\n",
       "            2645, 2646, 2647, 2648, 2649, 2650, 2651, 2652, 2653, 2654],\n",
       "           dtype='int64', length=1312)"
      ]
     },
     "execution_count": 29,
     "metadata": {},
     "output_type": "execute_result"
    }
   ],
   "source": [
    "df_variable.index"
   ]
  },
  {
   "cell_type": "code",
   "execution_count": 30,
   "id": "0be9c26b",
   "metadata": {},
   "outputs": [
    {
     "data": {
      "image/png": "[encoded data removed]",
      "text/plain": [
       "<Figure size 432x288 with 1 Axes>"
      ]
     },
     "metadata": {
      "needs_background": "light"
     },
     "output_type": "display_data"
    },
    {
     "data": {
      "image/png": "[encoded data removed]",
      "text/plain": [
       "<Figure size 432x288 with 1 Axes>"
      ]
     },
     "metadata": {
      "needs_background": "light"
     },
     "output_type": "display_data"
    },
    {
     "data": {
      "image/png": "[encoded data removed]",
      "text/plain": [
       "<Figure size 432x288 with 1 Axes>"
      ]
     },
     "metadata": {
      "needs_background": "light"
     },
     "output_type": "display_data"
    },
    {
     "data": {
      "image/png": "[encoded data removed]",
      "text/plain": [
       "<Figure size 432x288 with 1 Axes>"
      ]
     },
     "metadata": {
      "needs_background": "light"
     },
     "output_type": "display_data"
    },
    {
     "data": {
      "image/png": "[encoded data removed]",
      "text/plain": [
       "<Figure size 432x288 with 1 Axes>"
      ]
     },
     "metadata": {
      "needs_background": "light"
     },
     "output_type": "display_data"
    },
    {
     "data": {
      "image/png": "[encoded data removed]",
      "text/plain": [
       "<Figure size 432x288 with 1 Axes>"
      ]
     },
     "metadata": {
      "needs_background": "light"
     },
     "output_type": "display_data"
    },
    {
     "data": {
      "image/png": "[encoded data removed]",
      "text/plain": [
       "<Figure size 432x288 with 1 Axes>"
      ]
     },
     "metadata": {
      "needs_background": "light"
     },
     "output_type": "display_data"
    },
    {
     "data": {
      "image/png": "[encoded data removed]",
      "text/plain": [
       "<Figure size 432x288 with 1 Axes>"
      ]
     },
     "metadata": {
      "needs_background": "light"
     },
     "output_type": "display_data"
    }
   ],
   "source": [
    "# b. Show a histogram for each of the 8 variables\n",
    "\n",
    "for x in df_variable:\n",
    "    df_variable.hist(x)\n",
    "    plt.show(x)"
   ]
  },
  {
   "cell_type": "markdown",
   "id": "7de4363f",
   "metadata": {},
   "source": [
    "## Analysis on the visual shape of the distribution of each variable \n",
    "\n",
    "### Histogram 1 Final_Standing\n",
    "#### a. It is left skewed\n",
    "#### b. There are multiple modes as there are many bins with similar frequency\n",
    "#### c. It is wide as there are many bins with similar width\n",
    "#### d. There are not many outliers in the histogram\n",
    "\n",
    "### Histogram 2 Games_Played\n",
    "#### a. It is right skewed\n",
    "#### b. It has a single mode as there is only 1 bin with very high frequency\n",
    "#### c. It is narrow as there is only 1 main bin\n",
    "#### d. There are outliers in this histogram\n",
    "\n",
    "### Histogram 3 Games_Won\n",
    "#### a. It is normally distributed\n",
    "#### b. There are multiple modes as there are many bins with similar frequency\n",
    "#### c. It is wide as there are many bins with similar width\n",
    "#### d. There are not many outliers in the histogram\n",
    "\n",
    "### Histogram 4 Games_Lost\n",
    "#### a. It is normally distributed\n",
    "#### b. There are multiple modes as there are many bins with similar frequency\n",
    "#### c. It is wide as there are many bins with similar width\n",
    "#### d. There are not many outliers in the histogram\n",
    "\n",
    "### Histogram 5 Runs_Scored\n",
    "#### a. It is normally distributed\n",
    "#### b. There are multiple modes as there are many bins with similar frequency\n",
    "#### c. It is narrow as there are not many bins of higher frequency with similar width\n",
    "#### d. There are not many outliers in the histogram\n",
    "\n",
    "### Histogram 6 At_Bats\n",
    "#### a. It is right skewed\n",
    "#### b. It has a single mode as there is only 1 bin with very high frequency\n",
    "#### c. It is narrow as there is only 1 main bin\n",
    "#### d. There are outliers in this histogram\n",
    "\n",
    "### Histogram 7 Hits\n",
    "#### a. It is right skewed\n",
    "#### b. It has a multiple modes as there is more than 1 bin with very high frequency\n",
    "#### c. It is narrow as there are only 2 main bin\n",
    "#### d. There are outliers in this histogram\n",
    "\n",
    "### Histogram 8 Doubles\n",
    "#### a. It is normally distributed\n",
    "#### b. There are multiple modes as there are many bins with similar frequency\n",
    "#### c. It is wide as there are many bins with similar width\n",
    "#### d. There are not many outliers in the histogram."
   ]
  },
  {
   "cell_type": "code",
   "execution_count": 31,
   "id": "87396c9b",
   "metadata": {},
   "outputs": [
    {
     "data": {
      "image/png": "[encoded data removed]",
      "text/plain": [
       "<Figure size 432x288 with 1 Axes>"
      ]
     },
     "metadata": {
      "needs_background": "light"
     },
     "output_type": "display_data"
    },
    {
     "data": {
      "image/png": "[encoded data removed]",
      "text/plain": [
       "<Figure size 432x288 with 1 Axes>"
      ]
     },
     "metadata": {
      "needs_background": "light"
     },
     "output_type": "display_data"
    },
    {
     "data": {
      "image/png": "[encoded data removed]",
      "text/plain": [
       "<Figure size 432x288 with 1 Axes>"
      ]
     },
     "metadata": {
      "needs_background": "light"
     },
     "output_type": "display_data"
    },
    {
     "data": {
      "image/png": "[encoded data removed]",
      "text/plain": [
       "<Figure size 432x288 with 1 Axes>"
      ]
     },
     "metadata": {
      "needs_background": "light"
     },
     "output_type": "display_data"
    },
    {
     "data": {
      "image/png": "[encoded data removed]",
      "text/plain": [
       "<Figure size 432x288 with 1 Axes>"
      ]
     },
     "metadata": {
      "needs_background": "light"
     },
     "output_type": "display_data"
    },
    {
     "data": {
      "image/png": "[encoded data removed]",
      "text/plain": [
       "<Figure size 432x288 with 1 Axes>"
      ]
     },
     "metadata": {
      "needs_background": "light"
     },
     "output_type": "display_data"
    },
    {
     "data": {
      "image/png": "[encoded data removed]",
      "text/plain": [
       "<Figure size 432x288 with 1 Axes>"
      ]
     },
     "metadata": {
      "needs_background": "light"
     },
     "output_type": "display_data"
    },
    {
     "data": {
      "image/png": "[encoded data removed]",
      "text/plain": [
       "<Figure size 432x288 with 1 Axes>"
      ]
     },
     "metadata": {
      "needs_background": "light"
     },
     "output_type": "display_data"
    }
   ],
   "source": [
    "# c. Show a boxplot for each of the 8 variables\n",
    "\n",
    "for x in df_variable:\n",
    "    df_variable.boxplot(x)\n",
    "    plt.show()   "
   ]
  },
  {
   "cell_type": "markdown",
   "id": "701c0589",
   "metadata": {},
   "source": [
    "### Box Plot 1 Final_Standing\n",
    "#### a. The median is not in the centre of the box and the whiskers are not of similar length so its not symmetric\n",
    "#### b. It is a wide boxplot as length of the box is large\n",
    "#### c. There are many outliers in the boxplot\n",
    "\n",
    "### Box Plot 2 Games_Played\n",
    "#### a. It is highly skewed as the box is very small and data lies on the whiskers.\n",
    "#### b. It is a very narrow boxplot\n",
    "#### c. There are many outliers in the boxplot\n",
    "\n",
    "### Box Plot 3 Games_Won\n",
    "#### a. It is highly skewed as no data is inside the box or the whiskers\n",
    "#### b. It is a wide boxplot as length of the box is large\n",
    "#### c. There are many outliers in the boxplot\n",
    "\n",
    "### Box Plot 4 Games_Lost\n",
    "#### a. It is highly skewed as no data is inside the box or the whiskers\n",
    "#### b. It is a wide boxplot as length of the box is large\n",
    "#### c. There are many outliers in the boxplot\n",
    "\n",
    "### Box Plot 5 Runs_Scored\n",
    "#### a. It is highly skewed as no data is inside the box or the whiskers\n",
    "#### b. It is a wide boxplot as length of the box is large\n",
    "#### c. There are many outliers in the boxplot\n",
    "\n",
    "### Box Plot 6 At_Bats\n",
    "#### a. It is highly skewed as no data is inside the box or the whiskers\n",
    "#### b. It is a very narrow boxplot\n",
    "#### c. There are many outliers in the boxplot\n",
    "\n",
    "### Box Plot 7 Hits\n",
    "#### a. It is highly skewed as no data is inside the box or the whiskers\n",
    "#### b. It is a very narrow boxplot\n",
    "#### c. There are many outliers in the boxplot\n",
    "\n",
    "### Box Plot 8 Doubles\n",
    "#### a. It is highly skewed as no data is inside the box or the whiskers\n",
    "#### b. It is a wide boxplot as length of the box is large\n",
    "#### c. There are many outliers in the boxplot "
   ]
  },
  {
   "cell_type": "markdown",
   "id": "c8094b0b",
   "metadata": {},
   "source": [
    "## Comment on the validity of the assumption that each of the 8 variables is normally distributed.\n",
    "\n",
    "#### Final_Standing: Histogram is not \"bell-shaped\" and the box length for boxplot is not symmetric. So it is not normally distributed.\n",
    "\n",
    "\n",
    "#### Games_Played: Histogram is not \"bell-shaped\" and the box for boxplot is not showing up because of outliers. So it is not normally distributed.\n",
    "    \n",
    "    \n",
    "#### Games_Won: As per histogram, since it is roughly \"bell-sharped\", the variable can be assumed as normal distribution. Also the mean(79.523628) is approximately equal to median(79.761814).\n",
    "    \n",
    "    \n",
    "#### Games_Lost:The histogram it is roughly \"bell-sharped\", the box length for boxplot is symmetric and the mean(79.523628) is approximately equal to median(79.261814). So it is normally distrbuted.\n",
    "  \n",
    "    \n",
    "#### Runs_Scored: The histogram it is roughly \"bell-sharped\", the box length for boxplot is symmetric and the mean (703.445884) is approximately equal to median(703.722942). So it is normally distrbuted.\n",
    " \n",
    "    \n",
    "#### At_Bats: Histogram is not \"bell-shaped\" and the box is not showing up because of outliers so it is not normally  distributed.\n",
    " \n",
    "    \n",
    "#### Hits: Histogram is not \"bell-shaped\" and whiskers for boxplot is not symmetric so it is not normally distributed.\n",
    "\n",
    "    \n",
    "#### Doubles: The histogram it is roughly \"bell-sharped\", the box length for boxplot is symmetric and the mean(250.548780) is approximately equal to median(251.024390). So it is normally distrbuted.\n",
    "    "
   ]
  },
  {
   "cell_type": "code",
   "execution_count": null,
   "id": "90d0d15c",
   "metadata": {},
   "outputs": [],
   "source": []
  }
 ],
 "metadata": {
  "kernelspec": {
   "display_name": "Python 3 (ipykernel)",
   "language": "python",
   "name": "python3"
  },
  "language_info": {
   "codemirror_mode": {
    "name": "ipython",
    "version": 3
   },
   "file_extension": ".py",
   "mimetype": "text/x-python",
   "name": "python",
   "nbconvert_exporter": "python",
   "pygments_lexer": "ipython3",
   "version": "3.9.12"
  }
 },
 "nbformat": 4,
 "nbformat_minor": 5
}
